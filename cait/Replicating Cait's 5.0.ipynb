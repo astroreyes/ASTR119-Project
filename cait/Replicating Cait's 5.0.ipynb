{
 "cells": [
  {
   "cell_type": "code",
   "execution_count": 62,
   "id": "c23bbd8c",
   "metadata": {},
   "outputs": [],
   "source": [
    "%matplotlib notebook\n",
    "import matplotlib.pyplot as plt\n",
    "import numpy as np"
   ]
  },
  {
   "cell_type": "code",
   "execution_count": 63,
   "id": "93973145",
   "metadata": {},
   "outputs": [],
   "source": [
    "def func(x):\n",
    "    return np.sin(x)"
   ]
  },
  {
   "cell_type": "code",
   "execution_count": 64,
   "id": "185ef951",
   "metadata": {},
   "outputs": [],
   "source": [
    "n = 10000"
   ]
  },
  {
   "cell_type": "code",
   "execution_count": 65,
   "id": "f0a42a0d",
   "metadata": {},
   "outputs": [],
   "source": [
    "a = -2\n",
    "\n",
    "b = 2\n",
    "\n",
    "c = min(func(x))\n",
    "d = max(func(x))\n",
    "\n",
    "x = np.random.uniform(a,b,n)\n",
    "\n",
    "y = np.random.uniform(c,d,n)\n",
    "\n",
    "z = 0*np.ones(n)\n",
    "k = np.ones(n)\n"
   ]
  },
  {
   "cell_type": "code",
   "execution_count": 66,
   "id": "2654cb4f",
   "metadata": {},
   "outputs": [
    {
     "name": "stdout",
     "output_type": "stream",
     "text": [
      "0.9999999429551348\n"
     ]
    }
   ],
   "source": [
    "d = max(func(x))\n",
    "if d < np.inf:\n",
    "    d = max(func(x))\n",
    "else:\n",
    "    d = 10\n",
    "print(d)"
   ]
  },
  {
   "cell_type": "code",
   "execution_count": 67,
   "id": "27570dc5",
   "metadata": {},
   "outputs": [
    {
     "name": "stdout",
     "output_type": "stream",
     "text": [
      "-0.9999999680864724\n"
     ]
    }
   ],
   "source": [
    "if c > np.NINF:\n",
    "    c = min(func(x))\n",
    "else:\n",
    "    c = 10\n",
    "print(c)"
   ]
  },
  {
   "cell_type": "code",
   "execution_count": 69,
   "id": "473f6764",
   "metadata": {},
   "outputs": [],
   "source": [
    "#but added notebook to account hopefully for the animation"
   ]
  },
  {
   "cell_type": "markdown",
   "id": "4d0f56ab",
   "metadata": {},
   "source": []
  }
 ],
 "metadata": {
  "kernelspec": {
   "display_name": "Python 3",
   "language": "python",
   "name": "python3"
  },
  "language_info": {
   "codemirror_mode": {
    "name": "ipython",
    "version": 3
   },
   "file_extension": ".py",
   "mimetype": "text/x-python",
   "name": "python",
   "nbconvert_exporter": "python",
   "pygments_lexer": "ipython3",
   "version": "3.8.8"
  }
 },
 "nbformat": 4,
 "nbformat_minor": 5
}
