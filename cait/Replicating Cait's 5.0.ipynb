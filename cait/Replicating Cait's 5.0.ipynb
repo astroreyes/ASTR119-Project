{
 "cells": [
  {
   "cell_type": "code",
   "execution_count": 55,
   "id": "7efe98b6",
   "metadata": {},
   "outputs": [],
   "source": [
    "%matplotlib inline\n",
    "import matplotlib.pyplot as plt\n",
    "import numpy as np"
   ]
  },
  {
   "cell_type": "code",
   "execution_count": 56,
   "id": "a14c8d45",
   "metadata": {},
   "outputs": [],
   "source": [
    "def func(x):\n",
    "    return np.sin(x)"
   ]
  },
  {
   "cell_type": "code",
   "execution_count": 57,
   "id": "48a48da5",
   "metadata": {},
   "outputs": [],
   "source": [
    "n = 10000"
   ]
  },
  {
   "cell_type": "code",
   "execution_count": 58,
   "id": "510d0a75",
   "metadata": {},
   "outputs": [],
   "source": [
    "a = -2\n",
    "\n",
    "b = 2\n",
    "\n",
    "c = min(func(x))\n",
    "d = max(func(x))\n",
    "\n",
    "x = np.random.uniform(a,b,n)\n",
    "\n",
    "y = np.random.uniform(c,d,n)\n",
    "\n",
    "z = 0*np.ones(n)\n",
    "k = np.ones(n)\n"
   ]
  },
  {
   "cell_type": "code",
   "execution_count": 59,
   "id": "eb20a274",
   "metadata": {},
   "outputs": [
    {
     "name": "stdout",
     "output_type": "stream",
     "text": [
      "0.9999999992180187\n"
     ]
    }
   ],
   "source": [
    "d = max(func(x))\n",
    "if d < np.inf:\n",
    "    d = max(func(x))\n",
    "else:\n",
    "    d = 10\n",
    "print(d)"
   ]
  },
  {
   "cell_type": "code",
   "execution_count": 60,
   "id": "c77d2729",
   "metadata": {},
   "outputs": [
    {
     "name": "stdout",
     "output_type": "stream",
     "text": [
      "-0.999999996437191\n"
     ]
    }
   ],
   "source": [
    "if c > np.NINF:\n",
    "    c = min(func(x))\n",
    "else:\n",
    "    c = 10\n",
    "print(c)"
   ]
  },
  {
   "cell_type": "code",
   "execution_count": 61,
   "id": "527e6daf",
   "metadata": {},
   "outputs": [],
   "source": [
    "#i do not understand how i kept getting errors with this and now do not... how"
   ]
  }
 ],
 "metadata": {
  "kernelspec": {
   "display_name": "Python 3",
   "language": "python",
   "name": "python3"
  },
  "language_info": {
   "codemirror_mode": {
    "name": "ipython",
    "version": 3
   },
   "file_extension": ".py",
   "mimetype": "text/x-python",
   "name": "python",
   "nbconvert_exporter": "python",
   "pygments_lexer": "ipython3",
   "version": "3.8.8"
  }
 },
 "nbformat": 4,
 "nbformat_minor": 5
}
