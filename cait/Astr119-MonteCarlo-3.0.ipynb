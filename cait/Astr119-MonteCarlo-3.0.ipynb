{
 "cells": [
  {
   "cell_type": "markdown",
   "id": "ffafc396",
   "metadata": {},
   "source": [
    "# Final Project: Monte Carlo Integration"
   ]
  },
  {
   "cell_type": "code",
   "execution_count": null,
   "id": "6fa0d381",
   "metadata": {},
   "outputs": [],
   "source": [
    "%matplotlib inline\n",
    "import matplotlib.pyplot as plt \n",
    "import numpy as np"
   ]
  },
  {
   "cell_type": "markdown",
   "id": "8e9870c1",
   "metadata": {},
   "source": [
    "## Define a function for taking an integral"
   ]
  },
  {
   "cell_type": "code",
   "execution_count": null,
   "id": "93906c7b",
   "metadata": {},
   "outputs": [],
   "source": [
    "def func(x):\n",
    "    return np.sin(x)"
   ]
  },
  {
   "cell_type": "markdown",
   "id": "5779968a",
   "metadata": {},
   "source": [
    "## Setting perameters for the integration:\n",
    "\n",
    "n = 1000 number of samples for iteration"
   ]
  },
  {
   "cell_type": "code",
   "execution_count": null,
   "id": "c24dc9d9",
   "metadata": {},
   "outputs": [],
   "source": [
    "n = 100000"
   ]
  },
  {
   "cell_type": "markdown",
   "id": "7ea6153f",
   "metadata": {},
   "source": [
    "## Random uniformally distributed number sets"
   ]
  },
  {
   "cell_type": "code",
   "execution_count": null,
   "id": "cc238bf9",
   "metadata": {},
   "outputs": [],
   "source": [
    "\n",
    "#random uniform sets of numbers \n",
    "a = -2*np.pi            #a = lower bound of integration x-axis\n",
    "\n",
    "b = 2*np.pi             #b = upper bound of integration x-axis\n",
    "\n",
    "x = np.random.uniform(a,b,n) \n",
    "\n",
    "\n",
    "d = max(func(x))        #d = upper bound wrt the y-axis\n",
    "\n",
    "c = min(func(x))        #c = lower bound wrt the y-axis\n",
    "\n",
    "\n",
    "y = np.random.uniform(c,d,n)\n",
    "z = 0*np.ones(n)"
   ]
  },
  {
   "cell_type": "markdown",
   "id": "34d958e7",
   "metadata": {},
   "source": [
    "## Samples inside the curve and outside"
   ]
  },
  {
   "cell_type": "code",
   "execution_count": null,
   "id": "b4b7f9da",
   "metadata": {
    "scrolled": true
   },
   "outputs": [],
   "source": [
    "func_array = np.linspace(0,stop = d ,num = n) \n",
    "y = (func_array)*(func(x))\n",
    "\n",
    "ipr = np.where(y > z)[0] #if you take product in the curve pos\n"
   ]
  },
  {
   "cell_type": "markdown",
   "id": "6aa89e47",
   "metadata": {},
   "source": [
    "pr = np.where((func(x))>z) [0]\n",
    "nr = np.where((func(x))<z) [0]\n",
    "\n",
    "\n",
    "for i in range of (len(z)):\n",
    "    z[i] = np.random.uniform(c,d)\n",
    "Fint = 0.0\n",
    "\n",
    "for i in range of n:\n",
    "    integral = function(z[i])"
   ]
  },
  {
   "cell_type": "markdown",
   "id": "7261910b",
   "metadata": {},
   "source": [
    "pos_func = np.clip(func(y),z,d)\n",
    "neg_func = np.clip(func(y),c,z)\n",
    "\n",
    "print(pos_func)\n",
    "\n",
    "ipr = np.where((pos_func) < z) [0]   #inside positive part\n",
    "  #outside positive part\n",
    "\n"
   ]
  },
  {
   "cell_type": "markdown",
   "id": "f1542a07",
   "metadata": {},
   "source": [
    "func_pos = np.linspace(0,stop = d ,num = n)\n",
    "y = (func_pos)*(func(k))\n",
    "\n",
    "\n",
    "ipr = np.where((y)>z) [0]\n",
    "inr = np.where((y)<z) [0]\n",
    "\n"
   ]
  },
  {
   "cell_type": "markdown",
   "id": "7ac7484d",
   "metadata": {},
   "source": [
    "opr = np.where((pos_func) > z) [0]\n",
    "inr = np.where((neg_func) > 0) [0]\n",
    "onr = np.where((neg_func) < 0) [0]"
   ]
  },
  {
   "cell_type": "markdown",
   "id": "69bb0032",
   "metadata": {},
   "source": [
    "## plot the samples and our line... (hopefully)"
   ]
  },
  {
   "cell_type": "code",
   "execution_count": null,
   "id": "92324da5",
   "metadata": {},
   "outputs": [],
   "source": [
    "fig = plt.figure(figsize=(7,7))\n",
    "\n",
    "plt.xlim([a,b])\n",
    "plt.ylim([c,d])\n",
    "\n",
    "\n",
    "plt.plot(x[ipr],y[ipr],'.',color=\"blue\")\n",
    "\n",
    "\n",
    "#only for sin/cos\n",
    "theta = np.linspace(a,b,n)\n",
    "\n",
    "f_x= theta\n",
    "f_y= func(theta)\n",
    "\n",
    "plt.plot(f_x,f_y,color=\"green\")\n",
    "\n",
    "#plotting the y=0\n",
    "\n",
    "z_y=z*0\n",
    "plt.plot(x,z_y,color=\"black\")\n"
   ]
  },
  {
   "cell_type": "markdown",
   "id": "b1c56dc2",
   "metadata": {},
   "source": [
    "plt.plot(x[inr],y[inr],'.',color=\"orange\")\n",
    "\n",
    "plt.plot(x[opr],y[opr],'.',color=\".75\")\n",
    "plt.plot(x[onr],y[onr],'.',color=\"red\")\n",
    "\n",
    "\n",
    "ur = np.where((y)>=func(x)) [0] #outside \n",
    "nr = np.where((y)<z*0) [0]\n",
    "\n"
   ]
  },
  {
   "cell_type": "markdown",
   "id": "3e45d303",
   "metadata": {},
   "source": [
    "## Report the result of the line \n",
    "\n",
    "i really have zero clue here.... here is my best guess on this... so... the area under the line lets say we r looking here at from (-1,1) lets just say..."
   ]
  },
  {
   "cell_type": "code",
   "execution_count": null,
   "id": "c59c26a8",
   "metadata": {},
   "outputs": [],
   "source": [
    "line_approx = 4*(len(ir)/float(n) #marlon ty XD\n",
    "\n",
    "error_line = (line_approx-(.5*2))/(.5*2)\n",
    "\n",
    "print(\"number of samples =\", n)\n",
    "print(\"approximate area under function = \", line_approx)\n",
    "print(\"Error in approx = \", error_line)"
   ]
  },
  {
   "cell_type": "code",
   "execution_count": null,
   "id": "3cdd17c0",
   "metadata": {},
   "outputs": [],
   "source": []
  },
  {
   "cell_type": "code",
   "execution_count": null,
   "id": "133c21a5",
   "metadata": {},
   "outputs": [],
   "source": []
  },
  {
   "cell_type": "code",
   "execution_count": null,
   "id": "5485248c",
   "metadata": {},
   "outputs": [],
   "source": []
  }
 ],
 "metadata": {
  "kernelspec": {
   "display_name": "Python 3 (ipykernel)",
   "language": "python",
   "name": "python3"
  },
  "language_info": {
   "codemirror_mode": {
    "name": "ipython",
    "version": 3
   },
   "file_extension": ".py",
   "mimetype": "text/x-python",
   "name": "python",
   "nbconvert_exporter": "python",
   "pygments_lexer": "ipython3",
   "version": "3.9.7"
  }
 },
 "nbformat": 4,
 "nbformat_minor": 5
}
