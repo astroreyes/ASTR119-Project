{
 "cells": [
  {
   "cell_type": "code",
   "execution_count": 19,
   "id": "bb966168",
   "metadata": {},
   "outputs": [],
   "source": [
    "%matplotlib inline\n",
    "import matplotlib.pyplot as plt\n",
    "import numpy as np"
   ]
  },
  {
   "cell_type": "markdown",
   "id": "9f01dbbf",
   "metadata": {},
   "source": [
    "### draft for part three "
   ]
  },
  {
   "cell_type": "markdown",
   "id": "c27c9075",
   "metadata": {},
   "source": [
    "<i><small>~Have the Monte Carlo integrator produce a plot of f(x) over the domain x=[a,b] and y=[c,d], and overplot the samples (as small colored dots, with points above and below the line f(x) as distinctive colors. Have the plot contain the answer to the integral as “F(a,b) = XXX” where XXX is the floating point answer. Make a legend for f(x), and the dots above and below f(x). "
   ]
  },
  {
   "cell_type": "markdown",
   "id": "f31d6b13",
   "metadata": {},
   "source": [
    "aj speak: pretty mess right now, but getting further. lots of place holder values.  "
   ]
  },
  {
   "cell_type": "markdown",
   "id": "60aa41ec",
   "metadata": {},
   "source": [
    "## finding the number of samples under the curve"
   ]
  },
  {
   "cell_type": "code",
   "execution_count": null,
   "id": "6589c401",
   "metadata": {},
   "outputs": [],
   "source": [
    "##during the pi monte carlo in class, we did this:\n",
    "#ir = np.where((x*y)<1.0)[0]     #this is inside the area we want\n",
    "#ur = np.where((x*y)>=1.0)[0]    #this is the array of index outside the unit circle\n",
    "\n",
    "#if we pick the variets that lie underneath the curve, we know that the area under that\n",
    "#curve will be \n",
    "\n",
    "#of samples that fall within the circle, to the total number of samples in the domain\n",
    "#and the ratio of those will tell us our answer (in the case of the circle, pi)\n"
   ]
  },
  {
   "cell_type": "code",
   "execution_count": 1,
   "id": "1ba948d3",
   "metadata": {},
   "outputs": [
    {
     "ename": "NameError",
     "evalue": "name 'plt' is not defined",
     "output_type": "error",
     "traceback": [
      "\u001b[0;31m---------------------------------------------------------------------------\u001b[0m",
      "\u001b[0;31mNameError\u001b[0m                                 Traceback (most recent call last)",
      "\u001b[0;32m<ipython-input-1-4827dfac9bd9>\u001b[0m in \u001b[0;36m<module>\u001b[0;34m\u001b[0m\n\u001b[0;32m----> 1\u001b[0;31m \u001b[0mfig\u001b[0m \u001b[0;34m=\u001b[0m \u001b[0mplt\u001b[0m\u001b[0;34m.\u001b[0m\u001b[0mfigure\u001b[0m\u001b[0;34m(\u001b[0m\u001b[0mfigsize\u001b[0m\u001b[0;34m=\u001b[0m\u001b[0;34m(\u001b[0m\u001b[0;36m7\u001b[0m\u001b[0;34m,\u001b[0m\u001b[0;36m7\u001b[0m\u001b[0;34m)\u001b[0m\u001b[0;34m)\u001b[0m\u001b[0;34m\u001b[0m\u001b[0;34m\u001b[0m\u001b[0m\n\u001b[0m\u001b[1;32m      2\u001b[0m \u001b[0;34m\u001b[0m\u001b[0m\n\u001b[1;32m      3\u001b[0m \u001b[0;31m#x = np.linspace(0,1.75, 10000)\u001b[0m\u001b[0;34m\u001b[0m\u001b[0;34m\u001b[0m\u001b[0;34m\u001b[0m\u001b[0m\n\u001b[1;32m      4\u001b[0m \u001b[0;31m#y = np.cos(x)\u001b[0m\u001b[0;34m\u001b[0m\u001b[0;34m\u001b[0m\u001b[0;34m\u001b[0m\u001b[0m\n\u001b[1;32m      5\u001b[0m \u001b[0;34m\u001b[0m\u001b[0m\n",
      "\u001b[0;31mNameError\u001b[0m: name 'plt' is not defined"
     ]
    }
   ],
   "source": [
    "fig = plt.figure(figsize=(7,7))\n",
    "\n",
    "#x = np.linspace(0,1.75, 10000)\n",
    "#y = np.cos(x)\n",
    "\n",
    "plt.xlim([0,1.75])\n",
    "plt.ylim([c,d])\n",
    "plt.plot(x[ir], y[ir], '.', color=\"blue\")  #plotting inside of the area \n",
    "plt.plot(x[ur], y[ur], '.', color=\"0.75\")  #plotting outside the area\n",
    "#this will be the answer to the integral \n",
    "#as per directions \"F(a,b)=XXX (where XXX is flaoting points answer)\"\n",
    "plt.plot(x,y, 'm', marker='*', markersize =15, label = 'F(a,b)=XXXX')  #this will be the floating point answer to the integral\n",
    "                                                                       #as per directions \"F(a,b)=XXX (where XXX is flaoting points answer)\"\n",
    "                                                                       #m for magenta, marker for star symbol, markersize for size of star\n",
    "\n",
    "#circa the monte carlo in class, boundary inside and outside curve\n",
    "theta = np.linspace(0,2*np.pi, 1000)\n",
    "xc = np.cos(theta)\n",
    "yc = np.sin(theta)\n",
    "plt.plot(xc,yc,color=\"green\") #this is the green circle \"boundary\" from class\n",
    "\n",
    "plt.xlabel('x')\n",
    "plt.ylabel('f(x)')\n",
    "#above_curve = #if blank is above blank, it's this \n",
    "#below_curve = #if blank is below our curve, it's this \n",
    "#plt.plot(x,y, 'ro', label = 'above curve')\n",
    "#plt.plot(x,y, 'ro', label = 'below curve')\n",
    "plt.title('Monte Carlo Integration')\n",
    "plt.legend(loc=1,framealpha=0.95)\n",
    "\n",
    "plt.show()"
   ]
  },
  {
   "cell_type": "markdown",
   "id": "8aeae875",
   "metadata": {},
   "source": [
    "## reporting the result for our thing"
   ]
  },
  {
   "cell_type": "code",
   "execution_count": 3,
   "id": "cd31f108",
   "metadata": {},
   "outputs": [
    {
     "ename": "NameError",
     "evalue": "name 'ir' is not defined",
     "output_type": "error",
     "traceback": [
      "\u001b[0;31m---------------------------------------------------------------------------\u001b[0m",
      "\u001b[0;31mNameError\u001b[0m                                 Traceback (most recent call last)",
      "\u001b[0;32m<ipython-input-3-c8bc3bafef98>\u001b[0m in \u001b[0;36m<module>\u001b[0;34m\u001b[0m\n\u001b[0;32m----> 1\u001b[0;31m \u001b[0mpi_approx\u001b[0m \u001b[0;34m=\u001b[0m \u001b[0;36m4.0\u001b[0m\u001b[0;34m*\u001b[0m\u001b[0mlen\u001b[0m\u001b[0;34m(\u001b[0m\u001b[0mir\u001b[0m\u001b[0;34m)\u001b[0m\u001b[0;34m/\u001b[0m\u001b[0mfloat\u001b[0m\u001b[0;34m(\u001b[0m\u001b[0mn\u001b[0m\u001b[0;34m)\u001b[0m\u001b[0;34m\u001b[0m\u001b[0;34m\u001b[0m\u001b[0m\n\u001b[0m\u001b[1;32m      2\u001b[0m \u001b[0;34m\u001b[0m\u001b[0m\n\u001b[1;32m      3\u001b[0m \u001b[0merror_pi\u001b[0m \u001b[0;34m=\u001b[0m \u001b[0;34m(\u001b[0m\u001b[0mpi_approx\u001b[0m\u001b[0;34m-\u001b[0m\u001b[0mnp\u001b[0m\u001b[0;34m.\u001b[0m\u001b[0mpi\u001b[0m\u001b[0;34m)\u001b[0m\u001b[0;34m/\u001b[0m\u001b[0mnp\u001b[0m\u001b[0;34m.\u001b[0m\u001b[0mpi\u001b[0m\u001b[0;34m\u001b[0m\u001b[0;34m\u001b[0m\u001b[0m\n\u001b[1;32m      4\u001b[0m \u001b[0;34m\u001b[0m\u001b[0m\n\u001b[1;32m      5\u001b[0m \u001b[0mprint\u001b[0m\u001b[0;34m(\u001b[0m\u001b[0;34m\"Number of samples = \"\u001b[0m\u001b[0;34m,\u001b[0m \u001b[0mn\u001b[0m\u001b[0;34m)\u001b[0m\u001b[0;34m\u001b[0m\u001b[0;34m\u001b[0m\u001b[0m\n",
      "\u001b[0;31mNameError\u001b[0m: name 'ir' is not defined"
     ]
    }
   ],
   "source": [
    "pi_approx = 4.0*len(ir)/float(n)\n",
    "\n",
    "error_pi = (pi_approx-np.pi)/np.pi\n",
    "\n",
    "print(\"Number of samples = \", n)\n",
    "print(\"Approximate pi = \", pi_approx)\n",
    "print(\"Error in approx = \", error_pi)"
   ]
  },
  {
   "cell_type": "code",
   "execution_count": null,
   "id": "97ead163",
   "metadata": {},
   "outputs": [],
   "source": []
  }
 ],
 "metadata": {
  "kernelspec": {
   "display_name": "Python 3",
   "language": "python",
   "name": "python3"
  },
  "language_info": {
   "codemirror_mode": {
    "name": "ipython",
    "version": 3
   },
   "file_extension": ".py",
   "mimetype": "text/x-python",
   "name": "python",
   "nbconvert_exporter": "python",
   "pygments_lexer": "ipython3",
   "version": "3.8.8"
  }
 },
 "nbformat": 4,
 "nbformat_minor": 5
}
