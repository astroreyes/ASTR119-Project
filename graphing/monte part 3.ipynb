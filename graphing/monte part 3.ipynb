{
 "cells": [
  {
   "cell_type": "code",
   "execution_count": 19,
   "id": "bb966168",
   "metadata": {},
   "outputs": [],
   "source": [
    "%matplotlib inline\n",
    "import matplotlib.pyplot as plt\n",
    "import numpy as np"
   ]
  },
  {
   "cell_type": "markdown",
   "id": "9f01dbbf",
   "metadata": {},
   "source": [
    "### draft for part three "
   ]
  },
  {
   "cell_type": "markdown",
   "id": "c27c9075",
   "metadata": {},
   "source": [
    "<i><small>~Have the Monte Carlo integrator produce a plot of f(x) over the domain x=[a,b] and y=[c,d], and overplot the samples (as small colored dots, with points above and below the line f(x) as distinctive colors. Have the plot contain the answer to the integral as “F(a,b) = XXX” where XXX is the floating point answer. Make a legend for f(x), and the dots above and below f(x). "
   ]
  },
  {
   "cell_type": "markdown",
   "id": "6aa9e678",
   "metadata": {},
   "source": [
    "aj speak: pretty mess right now, but getting further. lots of place holder values.  "
   ]
  },
  {
   "cell_type": "code",
   "execution_count": 1,
   "id": "1ba948d3",
   "metadata": {},
   "outputs": [
    {
     "ename": "NameError",
     "evalue": "name 'plt' is not defined",
     "output_type": "error",
     "traceback": [
      "\u001b[0;31m---------------------------------------------------------------------------\u001b[0m",
      "\u001b[0;31mNameError\u001b[0m                                 Traceback (most recent call last)",
      "\u001b[0;32m<ipython-input-1-4827dfac9bd9>\u001b[0m in \u001b[0;36m<module>\u001b[0;34m\u001b[0m\n\u001b[0;32m----> 1\u001b[0;31m \u001b[0mfig\u001b[0m \u001b[0;34m=\u001b[0m \u001b[0mplt\u001b[0m\u001b[0;34m.\u001b[0m\u001b[0mfigure\u001b[0m\u001b[0;34m(\u001b[0m\u001b[0mfigsize\u001b[0m\u001b[0;34m=\u001b[0m\u001b[0;34m(\u001b[0m\u001b[0;36m7\u001b[0m\u001b[0;34m,\u001b[0m\u001b[0;36m7\u001b[0m\u001b[0;34m)\u001b[0m\u001b[0;34m)\u001b[0m\u001b[0;34m\u001b[0m\u001b[0;34m\u001b[0m\u001b[0m\n\u001b[0m\u001b[1;32m      2\u001b[0m \u001b[0;34m\u001b[0m\u001b[0m\n\u001b[1;32m      3\u001b[0m \u001b[0;31m#x = np.linspace(0,1.75, 10000)\u001b[0m\u001b[0;34m\u001b[0m\u001b[0;34m\u001b[0m\u001b[0;34m\u001b[0m\u001b[0m\n\u001b[1;32m      4\u001b[0m \u001b[0;31m#y = np.cos(x)\u001b[0m\u001b[0;34m\u001b[0m\u001b[0;34m\u001b[0m\u001b[0;34m\u001b[0m\u001b[0m\n\u001b[1;32m      5\u001b[0m \u001b[0;34m\u001b[0m\u001b[0m\n",
      "\u001b[0;31mNameError\u001b[0m: name 'plt' is not defined"
     ]
    }
   ],
   "source": [
    "fig = plt.figure(figsize=(7,7))\n",
    "\n",
    "#x = np.linspace(0,1.75, 10000)\n",
    "#y = np.cos(x)\n",
    "\n",
    "plt.xlim([0,1.75])\n",
    "plt.ylim([c,d])\n",
    "plt.plot(x[ir], y[ir], '.', color=\"blue\")\n",
    "plt.plot(x[ur], y[ur], '.', color=\"0.75\")\n",
    "#this will be the answer to the integral \n",
    "#as per directions \"F(a,b)=XXX (where XXX is flaoting points answer)\"\n",
    "plt.plot(x,y, 'm', marker='*', markersize =15, label = 'F(a,b)=XXXX')  #this will be the floating point answer to the integral\n",
    "                                                                       #as per directions \"F(a,b)=XXX (where XXX is flaoting points answer)\"\n",
    "                                                                       #m for magenta, marker for star symbol, markersize for size of star\n",
    "theta = np.linspace(0,2*np.pi, 1000)\n",
    "\n",
    "#circa the monte carlo in class, boundary inside and outside curve\n",
    "xc = np.cos(theta)\n",
    "yc = np.sin(theta)\n",
    "plt.plot(xc,yc,color=\"green\") #this is the green circle \"boundary\" from class\n",
    "\n",
    "plt.xlabel('x')\n",
    "plt.ylabel('y')\n",
    "\n",
    "theta = np.linspace(0,2*np.pi, 1000)\n",
    "\n",
    "#above_curve = #if blank is above blank, it's this \n",
    "#below_curve = #if blank is below our curve, it's this \n",
    "#plt.plot(x,y, 'ro', label = 'above curve')\n",
    "#plt.plot(x,y, 'ro', label = 'below curve')\n",
    "\n",
    "\n",
    "plt.title('Monte Carlo Integration')\n",
    "plt.xlabel('x')\n",
    "plt.ylabel('f(x)')\n",
    "plt.legend(loc=1,framealpha=0.95)\n",
    "\n",
    "plt.show()"
   ]
  },
  {
   "cell_type": "code",
   "execution_count": null,
   "id": "7aa6acbb",
   "metadata": {},
   "outputs": [],
   "source": []
  }
 ],
 "metadata": {
  "kernelspec": {
   "display_name": "Python 3",
   "language": "python",
   "name": "python3"
  },
  "language_info": {
   "codemirror_mode": {
    "name": "ipython",
    "version": 3
   },
   "file_extension": ".py",
   "mimetype": "text/x-python",
   "name": "python",
   "nbconvert_exporter": "python",
   "pygments_lexer": "ipython3",
   "version": "3.8.8"
  }
 },
 "nbformat": 4,
 "nbformat_minor": 5
}
