{
 "cells": [
  {
   "cell_type": "code",
   "execution_count": 2,
   "id": "bb966168",
   "metadata": {},
   "outputs": [],
   "source": [
    "%matplotlib inline\n",
    "import matplotlib.pyplot as plt\n",
    "import numpy as np"
   ]
  },
  {
   "cell_type": "markdown",
   "id": "9f01dbbf",
   "metadata": {},
   "source": [
    "### draft for Part 3 "
   ]
  },
  {
   "cell_type": "markdown",
   "id": "c27c9075",
   "metadata": {},
   "source": [
    "3) Have the Monte Carlo integrator produce a plot of f(x) over the domain x=[a,b] and y=[c,d], and overplot the samples (as small colored dots, with points above and below the line f(x) as distinctive colors. Have the plot contain the answer to the integral as “F(a,b) = XXX” where XXX is the floating point answer. Make a legend for f(x), and the dots above and below f(x). "
   ]
  },
  {
   "cell_type": "code",
   "execution_count": 5,
   "id": "1ba948d3",
   "metadata": {},
   "outputs": [
    {
     "ename": "SyntaxError",
     "evalue": "invalid syntax (<ipython-input-5-6e85416b03ad>, line 16)",
     "output_type": "error",
     "traceback": [
      "\u001b[0;36m  File \u001b[0;32m\"<ipython-input-5-6e85416b03ad>\"\u001b[0;36m, line \u001b[0;32m16\u001b[0m\n\u001b[0;31m    above_curve = #if blank is above blank, it's this\u001b[0m\n\u001b[0m                  ^\u001b[0m\n\u001b[0;31mSyntaxError\u001b[0m\u001b[0;31m:\u001b[0m invalid syntax\n"
     ]
    }
   ],
   "source": [
    "#ABOVE THE CURVE DATA POINTS\n",
    "\n",
    "\n",
    "#BELOW THE CURVE DATA POINTS\n",
    "\n",
    "#this will be the answer to the integral \n",
    "#as per directions \"F(a,b)=XXX (where XXX is flaoting points answer)\"\n",
    "plt.plot(x,y, 'm', marker='*', markersize =15, label = 'F(a,b)=XXXX')\n",
    "#m for magenta, marker for star symbol, markersize for size of star\n",
    "\n",
    "plt.xlabel('x')\n",
    "plt.ylabel('y')\n",
    "plt.xlim([a,b])\n",
    "plt.ylim([c,d])\n",
    "\n",
    "#above_curve = #if blank is above blank, it's this \n",
    "#below_curve = #if blank is below our curve, it's this \n",
    "#plt.plot(x,y, 'ro', label = 'above curve')\n",
    "#plt.plot(x,y, 'ro', label = 'below curve')\n",
    "\n",
    "\n",
    "plt.title('Monte Carlo Integration')\n",
    "plt.xlabel('x')\n",
    "plt.ylabel('f(x)')\n",
    "plt.legend(loc=1,framealpha=0.95)\n",
    "\n",
    "plt.show()"
   ]
  }
 ],
 "metadata": {
  "kernelspec": {
   "display_name": "Python 3",
   "language": "python",
   "name": "python3"
  },
  "language_info": {
   "codemirror_mode": {
    "name": "ipython",
    "version": 3
   },
   "file_extension": ".py",
   "mimetype": "text/x-python",
   "name": "python",
   "nbconvert_exporter": "python",
   "pygments_lexer": "ipython3",
   "version": "3.8.8"
  }
 },
 "nbformat": 4,
 "nbformat_minor": 5
}
