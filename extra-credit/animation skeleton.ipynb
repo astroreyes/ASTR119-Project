{
 "cells": [
  {
   "cell_type": "markdown",
   "id": "98cf5aea",
   "metadata": {},
   "source": [
    "## importing our packages as per usual <i>but,</i>\n",
    "\n",
    "we're using FuncAnimation from matplotlib (check https://matplotlib.org/stable/api/animation_api.html)"
   ]
  },
  {
   "cell_type": "code",
   "execution_count": null,
   "id": "e6555bc4",
   "metadata": {},
   "outputs": [],
   "source": [
    "%matplotlib inline\n",
    "import matplotlib.pyplot as plt\n",
    "from matplotlib.animation import FuncAnimation\n",
    "import numpy as np"
   ]
  },
  {
   "cell_type": "code",
   "execution_count": null,
   "id": "9deb6ff4",
   "metadata": {},
   "outputs": [],
   "source": [
    "fig = plt.figure(figsize==(7,7)) #as per usual. this is our figure size\n",
    "line, = plt.plot([]) \n",
    "\n",
    "#need to call a function for FuncAnimation to animate \n",
    "def monte_animation(frame):\n",
    "    x = np.random.uniform(a,b,n)\n",
    "    y = np.random.uniform(c,d,n)\n",
    "    #these would be the x and y values that would be graphed \n",
    "    \n",
    "#this is creating the animation\n",
    "anim = FuncAnimation(fig, monte_animation, frames=119, interval=119)\n",
    "#interval will need to be shorter, but keeping it 119 for the lolz for now \n",
    "plt.show()"
   ]
  },
  {
   "cell_type": "markdown",
   "id": "9ef7a572",
   "metadata": {},
   "source": [
    "<u>note:</u> animation skeleton is not ready to run "
   ]
  },
  {
   "cell_type": "code",
   "execution_count": null,
   "id": "f48307d0",
   "metadata": {},
   "outputs": [],
   "source": []
  }
 ],
 "metadata": {
  "kernelspec": {
   "display_name": "Python 3",
   "language": "python",
   "name": "python3"
  },
  "language_info": {
   "codemirror_mode": {
    "name": "ipython",
    "version": 3
   },
   "file_extension": ".py",
   "mimetype": "text/x-python",
   "name": "python",
   "nbconvert_exporter": "python",
   "pygments_lexer": "ipython3",
   "version": "3.8.8"
  }
 },
 "nbformat": 4,
 "nbformat_minor": 5
}
