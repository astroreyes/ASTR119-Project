{
 "cells": [
  {
   "cell_type": "markdown",
   "id": "complimentary-browse",
   "metadata": {},
   "source": [
    "# FINAL PROJECT: MONTE CARLO INTEGRATION"
   ]
  },
  {
   "cell_type": "markdown",
   "id": "certified-american",
   "metadata": {},
   "source": [
    "In this code, we will perform a Monte Carlo Integration over any given function inside of a box [a,b], [c,d] and report the numerical results of our integration as well as try to animate the actual monte carlo integrational analysis."
   ]
  },
  {
   "cell_type": "code",
   "execution_count": null,
   "id": "normal-stable",
   "metadata": {},
   "outputs": [],
   "source": [
    "%matplotlib notebook\n",
    "%matplotlib inline\n",
    "import matplotlib.pyplot as plt\n",
    "import numpy as np\n",
    "from matplotlib.animation import FuncAnimation"
   ]
  },
  {
   "cell_type": "markdown",
   "id": "indoor-mauritius",
   "metadata": {},
   "source": [
    "# PART 1: MONTE-CARLO"
   ]
  },
  {
   "cell_type": "markdown",
   "id": "junior-chile",
   "metadata": {},
   "source": [
    "<small><small> 1) Write a scheme to compute a Monte Carlo integral for any specified function. The integration scheme should take a defined function as a parameter, along with the domain limits x=[a,b]. The domain y=[c,d] should be determined for the function considered automatically."
   ]
  },
  {
   "cell_type": "markdown",
   "id": "greek-norman",
   "metadata": {},
   "source": [
    "## Define the function f(x):"
   ]
  },
  {
   "cell_type": "code",
   "execution_count": null,
   "id": "floating-league",
   "metadata": {},
   "outputs": [],
   "source": [
    "def f_x(var):\n",
    "    return np.cos(var)"
   ]
  },
  {
   "cell_type": "markdown",
   "id": "interpreted-cookbook",
   "metadata": {},
   "source": [
    "## Now, define the parameters of the function:"
   ]
  },
  {
   "cell_type": "code",
   "execution_count": null,
   "id": "surprising-moisture",
   "metadata": {},
   "outputs": [],
   "source": [
    "#MARLON\n",
    "#with small edits from CAIT & AJ\n",
    "\n",
    "n = 10000 # Number of samples\n",
    "\n",
    "a = 0 # lower x bound\n",
    "b = 1.75 # upper x bound\n",
    "\n",
    "# Call the function f(x)\n",
    "var = np.linspace(a,b,n) # gives us an array with the parameters to integrate over\n",
    "func = f_x(var) # gives us an array of all the values of f(x) -> array of y values\n",
    "\n",
    "c = min(f_x(var)) # lower y bound\n",
    "d = max(f_x(var)) # upper y bound\n",
    "\n",
    "if c > np.NINF: # check to see if it goes to infinity\n",
    "    c = min(f_x(var))\n",
    "else:\n",
    "    c = f_x(a)\n",
    "    \n",
    "if d < np.inf: #check to see if it goes to infinity\n",
    "    d = max(f_x(var))\n",
    "else:\n",
    "    d = f_x(b)"
   ]
  },
  {
   "cell_type": "markdown",
   "id": "waiting-serbia",
   "metadata": {},
   "source": [
    "## Next, define the Monte Carlo Integration method:"
   ]
  },
  {
   "cell_type": "markdown",
   "id": "9210935e",
   "metadata": {},
   "source": [
    "<i><u>note:</u> Cait took out \"if lower, subtract 0.1 & if \"upper, add 0.1) from a_x, b_x, c_y, d_y"
   ]
  },
  {
   "cell_type": "code",
   "execution_count": null,
   "id": "young-heading",
   "metadata": {},
   "outputs": [],
   "source": [
    "#MARLON & Cait\n",
    "#Define the Monte Carlo Parameters:\n",
    "def mc_parameters(lower_x, upper_x, lower_y, upper_y):\n",
    "    a_x = lower_x\n",
    "    b_x = upper_x\n",
    "    c_y = lower_y\n",
    "    d_y = upper_y\n",
    "    return a_x,b_x,c_y,d_y"
   ]
  },
  {
   "cell_type": "code",
   "execution_count": null,
   "id": "delayed-minimum",
   "metadata": {},
   "outputs": [],
   "source": [
    "#MARLON & RAKSHYA:\n",
    "# Define the integration method with the mc_parameters\n",
    "\n",
    "# Call mc_parameters\n",
    "sample = mc_parameters(a,b,c,d)\n",
    "\n",
    "# need two sample arrays where x -> [a_x,b_x] from mc_parameters\n",
    "x = np.random.uniform(sample[0],sample[1],n)\n",
    "\n",
    "# y -> [c_y,d_y] from mc_parameters\n",
    "y = np.random.uniform(sample[2],sample[3],n)"
   ]
  },
  {
   "cell_type": "code",
   "execution_count": null,
   "id": "advised-brighton",
   "metadata": {},
   "outputs": [],
   "source": [
    "#MARLON:\n",
    "# Now, we will check if our samples are within the bounds\n",
    "ir_pos = []\n",
    "ur_pos = []\n",
    "ir_neg = []\n",
    "ur_neg = []\n",
    "\n",
    "\n",
    "for i in range(n):\n",
    "    \n",
    "    \n",
    "    if((y[i])>0):\n",
    "        if((y[i])<(f_x(x)[i])):\n",
    "            n = i\n",
    "            ir_pos.append(n)\n",
    "            \n",
    "        elif((y[i])>(f_x(x)[i])):\n",
    "            n = i\n",
    "            ur_pos.append(n)\n",
    "            \n",
    "            \n",
    "    elif((y[i])<0):\n",
    "        if((y[i])>(f_x(x)[i])):\n",
    "            n = i\n",
    "            ir_neg.append(n)\n",
    "            \n",
    "        elif((y[i])<(f_x(x)[i])):\n",
    "            n = i\n",
    "            ur_neg.append(n)"
   ]
  },
  {
   "cell_type": "markdown",
   "id": "51ebc3e9",
   "metadata": {},
   "source": [
    "# PART TWO:"
   ]
  },
  {
   "cell_type": "markdown",
   "id": "b09fc87d",
   "metadata": {},
   "source": [
    "<small><small>2) Engineer a method for specifying a tolerance for the Monte Carlo integration. Note this tolerance can refer to the absolute difference between two numerical estimates of the integral."
   ]
  },
  {
   "cell_type": "code",
   "execution_count": null,
   "id": "5d5244b5",
   "metadata": {},
   "outputs": [],
   "source": [
    "def trapezoid_core(f_x,var,h):\n",
    "    return 0.5*h*(f_x(var+h)+f_x(var))"
   ]
  },
  {
   "cell_type": "code",
   "execution_count": null,
   "id": "1422bf13",
   "metadata": {},
   "outputs": [],
   "source": [
    "#AJ\n",
    "def trapezoid_method(f_x,a,b,n,):\n",
    "    # f == function to integrate\n",
    "    # a == lower limit of integration\n",
    "    # b = upper limit of integration\n",
    "    # n == number of intervals to use\n",
    "    \n",
    "    #define x values to perform trapezoid rule\n",
    "    h = var[1]-var[0]\n",
    "    \n",
    "    # define the value of the integral\n",
    "    Fint = 0.0\n",
    "    \n",
    "    #perform integral using trapezoid method\n",
    "    for i in range(0,len(var)-1,1):\n",
    "        Fint += trapezoid_core(f_x,var[i],h)\n",
    "        \n",
    "    #return answer\n",
    "    return Fint"
   ]
  },
  {
   "cell_type": "code",
   "execution_count": null,
   "id": "3ee0d87d",
   "metadata": {},
   "outputs": [],
   "source": [
    "#CAIT\n",
    "t_float = (float(trapezoid_method(f_x,a,b,n)))\n",
    "print(\"Trapezoid\")\n",
    "print(trapezoid_method(f_x,a,b,n))\n",
    "print(\"Trapezoid Float\")\n",
    "print((t_float))"
   ]
  },
  {
   "cell_type": "markdown",
   "id": "33d5c769",
   "metadata": {},
   "source": [
    "# Monte Carlo Approx:"
   ]
  },
  {
   "cell_type": "code",
   "execution_count": null,
   "id": "382c2723",
   "metadata": {},
   "outputs": [],
   "source": [
    "#CAIT\n",
    "area_rectangle = ((abs(a)+abs(b)) *((abs(c))+(abs(d))))\n",
    "\n",
    "monte_carlo_approx =  (area_rectangle*((len(ir_pos)-len(ir_neg)))/(float(n)))\n",
    "print (\"Monte Carlo\")\n",
    "print (monte_carlo_approx)"
   ]
  },
  {
   "cell_type": "markdown",
   "id": "85f64f44",
   "metadata": {},
   "source": [
    "# tolerance"
   ]
  },
  {
   "cell_type": "code",
   "execution_count": null,
   "id": "1561dd3a",
   "metadata": {},
   "outputs": [],
   "source": [
    "#CAIT\n",
    "#define what is close to zero because of symetry we will not be able to accurately test for error\n",
    "\n",
    "error=((abs(monte_carlo_approx - t_float))/(t_float))\n",
    "\n",
    "np.isclose(t_float, float(0), rtol= 0 , atol=1e-10, equal_nan=True)\n",
    "\n",
    "if t_float <= 0 :\n",
    "    error = \"Not Applicable\"\n",
    "    print(\"tolerance undefined because symetry\")\n",
    "else:\n",
    "    print((abs(monte_carlo_approx - t_float))/(t_float))\n",
    "\n",
    "print(error)"
   ]
  },
  {
   "cell_type": "markdown",
   "id": "9ec75b8b",
   "metadata": {},
   "source": [
    "# PART 3/4"
   ]
  },
  {
   "cell_type": "markdown",
   "id": "deluxe-brand",
   "metadata": {},
   "source": [
    "## Graph the function, the x-axis, the y-axis and the Monte Carlo Integration samples:"
   ]
  },
  {
   "cell_type": "markdown",
   "id": "932dd7bd",
   "metadata": {},
   "source": [
    "<small> <small> 3) Have the Monte Carlo integrator produce a plot of f(x) over the domain x=[a,b] and y=[c,d], and overplot the samples (as small colored dots, with points above and below the line f(x) as distinctive colors. Have the plot contain the answer to the integral as “F(a,b) = XXX” where XXX is the floating point answer. Make a legend for f(x), and the dots above and below f(x).\n",
    "    \n",
    "    \n",
    "4) Test your model on cos(x) over the domain x = [0,1.75]\n",
    "                                                                                                                                         "
   ]
  },
  {
   "cell_type": "markdown",
   "id": "32d0dc92",
   "metadata": {},
   "source": [
    "<i><u>note from AJ:</u> below, the function we are graphing is f(x) = cos(x) over the domain x = [0,1.75)"
   ]
  },
  {
   "cell_type": "code",
   "execution_count": null,
   "id": "declared-bridge",
   "metadata": {},
   "outputs": [],
   "source": [
    "#AJ & RAKSHYA\n",
    "fig = plt.figure(figsize=(10,10))\n",
    "plt.xlim([sample[0],sample[1]]) #Confines x axis to sample box\n",
    "plt.ylim([sample[2],sample[3]]) #Confines y axis to sample box\n",
    "# Plot points inside integral\n",
    "plt.plot(x[ir_pos],y[ir_pos],'.',color='orange', label = 'below f(x)')\n",
    "plt.plot(x[ir_neg],y[ir_neg],'.',color='orange')\n",
    "# Plot points outside integral\n",
    "plt.plot(x[ur_pos],y[ur_pos],'.',color='0.75', label = 'outside f(x)')\n",
    "plt.plot(x[ur_neg],y[ur_neg],'.',color='0.75')\n",
    "# Plot graph f(x)\n",
    "plt.plot(var,func,color='green',linewidth=5.0, label ='f(x)')\n",
    "\n",
    "#plot floating point F(a,b)\n",
    "plt.plot([],[],' ',marker='*', label = f'F(a,b)={monte_carlo_approx}')\n",
    "\n",
    "plt.title('Monte Carlo Integration')\n",
    "\n",
    "plt.xlabel('x')\n",
    "plt.ylabel('f(x)')\n",
    "plt.legend(loc=1,framealpha=0.95)\n",
    "plt.show()"
   ]
  }
 ],
 "metadata": {
  "kernelspec": {
   "display_name": "Python 3",
   "language": "python",
   "name": "python3"
  },
  "language_info": {
   "codemirror_mode": {
    "name": "ipython",
    "version": 3
   },
   "file_extension": ".py",
   "mimetype": "text/x-python",
   "name": "python",
   "nbconvert_exporter": "python",
   "pygments_lexer": "ipython3",
   "version": "3.8.8"
  }
 },
 "nbformat": 4,
 "nbformat_minor": 5
}
