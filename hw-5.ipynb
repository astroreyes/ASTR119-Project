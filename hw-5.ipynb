{
 "cells": [
  {
   "cell_type": "markdown",
   "id": "21d195fe",
   "metadata": {},
   "source": [
    "# Homework 5"
   ]
  },
  {
   "cell_type": "code",
   "execution_count": 1,
   "id": "ac148bf5",
   "metadata": {},
   "outputs": [],
   "source": [
    "%matplotlib inline\n",
    "import numpy as np\n",
    "import matplotlib.pyplot as plt"
   ]
  },
  {
   "cell_type": "markdown",
   "id": "fb760dce",
   "metadata": {},
   "source": [
    "<small>prologue: define the function"
   ]
  },
  {
   "cell_type": "code",
   "execution_count": 2,
   "id": "36cdb62d",
   "metadata": {},
   "outputs": [],
   "source": [
    "def func(x):\n",
    "    a = np.exp(-2*x)\n",
    "    b = np.cos(10*x)\n",
    "    return a*b"
   ]
  },
  {
   "cell_type": "code",
   "execution_count": 3,
   "id": "a4d727c8",
   "metadata": {},
   "outputs": [],
   "source": [
    "def func_integral(x):\n",
    "    a = np.exp(-2*x)\n",
    "    b = np.cos(10*x)\n",
    "    c = np.sin(10*x)\n",
    "    return (-1/52)*a*(b-(5*c))"
   ]
  },
  {
   "cell_type": "markdown",
   "id": "ecec5adf",
   "metadata": {},
   "source": [
    "## <b><i> Trapezoid"
   ]
  },
  {
   "cell_type": "markdown",
   "id": "18f1e839",
   "metadata": {},
   "source": [
    "<small> defining the core of the trapezoid method"
   ]
  },
  {
   "cell_type": "code",
   "execution_count": 4,
   "id": "b841d1d7",
   "metadata": {},
   "outputs": [],
   "source": [
    "def trapezoid_core(f,x,h):\n",
    "    return 0.5*h*(f(x+h)+f(x))"
   ]
  },
  {
   "cell_type": "markdown",
   "id": "9a458778",
   "metadata": {},
   "source": [
    "<small> defining a wrapper function to perform trapezoid method"
   ]
  },
  {
   "cell_type": "code",
   "execution_count": 5,
   "id": "a50a960a",
   "metadata": {},
   "outputs": [],
   "source": [
    "def trapezoid_method(f,a,b,N,):     #left side of the integral\n",
    "    # f == function to integrate\n",
    "    # a == lower limit of integration\n",
    "    # b = upper limit of integration\n",
    "    # N == number of interbals to use\n",
    "    \n",
    "    # define x values to preform the trapezoid rule\n",
    "    x = np.linspace(a,b,N)\n",
    "    h = x[1]-x[0]\n",
    "    \n",
    "    # define the value of the integral\n",
    "    Fint = 0.0\n",
    "    \n",
    "    # preform the integral using the trapezoid method\n",
    "    for i in range(0,len(x)-1,1):\n",
    "        Fint += trapezoid_core(f,x[i],h)\n",
    "        \n",
    "    # return the answer\n",
    "    return Fint"
   ]
  },
  {
   "cell_type": "markdown",
   "id": "1a3144b4",
   "metadata": {},
   "source": [
    "## <i>Simpson's"
   ]
  },
  {
   "cell_type": "markdown",
   "id": "4123b22a",
   "metadata": {},
   "source": [
    "<small> defining the core of simpson's method"
   ]
  },
  {
   "cell_type": "code",
   "execution_count": 6,
   "id": "5aa4e611",
   "metadata": {},
   "outputs": [],
   "source": [
    "def simpson_core(f,x,h):\n",
    "    return h*(f(x) + 4*f(x+h) + f(x+2*h))/3"
   ]
  },
  {
   "cell_type": "markdown",
   "id": "3a919b6e",
   "metadata": {},
   "source": [
    "<small> defining a wrapper function to perform simpson's method"
   ]
  },
  {
   "cell_type": "code",
   "execution_count": 7,
   "id": "d978d2c2",
   "metadata": {},
   "outputs": [],
   "source": [
    "def simpsons_method(f,a,b,N,):     #left side of the integral\n",
    "    # f == function to integrate\n",
    "    # a == lower limit of integration\n",
    "    # b = upper limit of integration\n",
    "    # N == number of interbals to use\n",
    "    \n",
    "    # define x values to preform the trapezoid rule\n",
    "    x = np.linspace(a,b,N)\n",
    "    h = x[1]-x[0]\n",
    "    \n",
    "    # define the value of the integral\n",
    "    Fint = 0.0\n",
    "    \n",
    "    # preform the integral using the trapezoid method\n",
    "    for i in range(0,len(x)-2,2):\n",
    "        Fint += simpson_core(f,x[i],h)\n",
    "    \n",
    "    # apply simpson's rule over the last interval\n",
    "    # if N is even\n",
    "    if((N%2)==0):\n",
    "        Fint += simpson_core(f,x[-2],0.5*h)\n",
    "    \n",
    "    # return the answer\n",
    "    return Fint"
   ]
  },
  {
   "cell_type": "markdown",
   "id": "0fb6c3c2",
   "metadata": {},
   "source": [
    "## <i>Romberg "
   ]
  },
  {
   "cell_type": "markdown",
   "id": "65c6a520",
   "metadata": {},
   "source": [
    "<small> defining the romberg integration core"
   ]
  },
  {
   "cell_type": "code",
   "execution_count": 8,
   "id": "a4e92dbc",
   "metadata": {},
   "outputs": [],
   "source": [
    "def romberg_core(f,a,b,i):\n",
    "    \n",
    "    # we need the difference b-a\n",
    "    h = b-a\n",
    "    \n",
    "    #interval between function evalutations at refine level i\n",
    "    dh = h/2.**(i)\n",
    "    \n",
    "    # we need the cofactor\n",
    "    K = h/2.**(i+1)\n",
    "    \n",
    "    # and the function evalutations\n",
    "    M = 0.0\n",
    "    for j in range(2**i):\n",
    "        M += f(a + 0.5*dh + j*dh)\n",
    "        \n",
    "    #return the answer\n",
    "    return K*M"
   ]
  },
  {
   "cell_type": "markdown",
   "id": "368cee11",
   "metadata": {},
   "source": [
    "<small> defining a wrapper function to perform romberg integration"
   ]
  },
  {
   "cell_type": "code",
   "execution_count": 9,
   "id": "43271f38",
   "metadata": {},
   "outputs": [],
   "source": [
    "def romberg_integration(f,a,b,tol):\n",
    "    \n",
    "    #define an iteration variable\n",
    "    i = 0\n",
    "    \n",
    "    #define a max number of iterations\n",
    "    imax = 1000000\n",
    "    \n",
    "    #define an error estimate\n",
    "    delta = 100.0*np.fabs(tol)\n",
    "    \n",
    "    #set an array of intergral answers\n",
    "    I = np.zeros(imax,dtype=float)\n",
    "    \n",
    "    #get the zeroth romberg iteration first\n",
    "    I[0] = 0.5*(b-a)*(f(a) + f(b))\n",
    "    \n",
    "    #iterate by 1\n",
    "    i += 1\n",
    "    \n",
    "    #iterate until we reach tolerance\n",
    "    while(delta>tol):\n",
    "        \n",
    "        #find romberg iteration\n",
    "        I[i] = 0.5*I[i-1] + romberg_core(f,a,b,i)\n",
    "        \n",
    "        #compute a fractional error estimate\n",
    "        delta = np.fabs( (I[i]-I[i-1])/I[i])\n",
    "        \n",
    "        print(i,I[i], I[i-1],delta)\n",
    "        \n",
    "        if(delta>tol):\n",
    "            \n",
    "            #iterate\n",
    "            i +=1\n",
    "            \n",
    "            #if we've reached the maximum iterations\n",
    "            if(i>imax):\n",
    "                print(\"Max iterations reached.\")\n",
    "                raise StopIteration('Stopping iterations after', i)\n",
    "                \n",
    "    #return the answer\n",
    "    return I[i]"
   ]
  },
  {
   "cell_type": "markdown",
   "id": "140ffdd9",
   "metadata": {},
   "source": [
    "## checking the integrals"
   ]
  },
  {
   "cell_type": "code",
   "execution_count": null,
   "id": "76caac00",
   "metadata": {},
   "outputs": [
    {
     "name": "stdout",
     "output_type": "stream",
     "text": [
      "0.019194856870544078\n",
      "Trapezoid\n",
      "0.019194873292458704\n",
      "Simpson's' Method\n",
      "0.019194856870512214\n",
      "Romberg\n",
      "1 0.7868648494891817 1.5737296989783633 1.0\n",
      "2 0.2974797999211515 0.7868648494891817 1.6451034648327187\n",
      "3 0.1338682162766772 0.2974797999211515 1.222183937270994\n",
      "4 0.07429884868669351 0.1338682162766772 0.8017535754985691\n",
      "5 0.046311294693032426 0.07429884868669351 0.6043353825275767\n",
      "6 0.032650759062474666 0.046311294693032426 0.4183834012685401\n",
      "7 0.02589762452336669 0.032650759062474666 0.2607627017302229\n",
      "8 0.022539969341304138 0.02589762452336669 0.14896449641170112\n",
      "9 0.020865846795039833 0.022539969341304138 0.08023266741622354\n",
      "10 0.020029960350517375 0.020865846795039833 0.04173180724748\n",
      "11 0.01961231074592669 0.020029960350517375 0.021295277746780958\n",
      "12 0.019403559342457077 0.01961231074592669 0.010758407763509729\n",
      "13 0.019299201990079375 0.019403559342457077 0.005407340284398649\n",
      "14 0.019247027901207872 0.019299201990079375 0.002710760806255611\n",
      "15 0.019220942003600066 0.019247027901207872 0.0013571602059316483\n",
      "16 0.019207899341502903 0.019220942003600066 0.0006790259499632827\n",
      "17 0.019201378082131126 0.019207899341502903 0.00033962454902365327\n",
      "18 0.019198117470364325 0.019201378082131126 0.00016984018208218577\n",
      "19 0.019196487168961114 0.019198117470364325 8.492706966962434e-05\n",
      "20 0.019195672019377927 0.019196487168961114 4.246527979663633e-05\n",
      "21 0.019195264444867084 0.019195672019377927 2.1233076106515646e-05\n",
      "22 0.019195060657681284 0.019195264444867084 1.0616647138248912e-05\n",
      "23 0.019194958764104236 0.019195060657681284 5.308350921731978e-06\n",
      "24 0.019194907817322197 0.019194958764104236 2.654182167712595e-06\n",
      "25 0.01919488234392562 0.019194907817322197 1.3270931344985499e-06\n"
     ]
    }
   ],
   "source": [
    "Answer = func_integral(np.pi) - func_integral(0)\n",
    "print(Answer)\n",
    "print(\"Trapezoid\")\n",
    "print(trapezoid_method(func,0,np.pi,10000))\n",
    "print(\"Simpson's' Method\")\n",
    "print(simpsons_method(func,0,np.pi,10000))\n",
    "print(\"Romberg\")\n",
    "tolerance = 1.0e-6\n",
    "RI = romberg_integration(func,0,np.pi,tolerance)\n",
    "print(RI, (RI-Answer)/Answer, tolerance)"
   ]
  },
  {
   "cell_type": "code",
   "execution_count": null,
   "id": "e7ae1bbf",
   "metadata": {},
   "outputs": [],
   "source": []
  }
 ],
 "metadata": {
  "kernelspec": {
   "display_name": "Python 3",
   "language": "python",
   "name": "python3"
  },
  "language_info": {
   "codemirror_mode": {
    "name": "ipython",
    "version": 3
   },
   "file_extension": ".py",
   "mimetype": "text/x-python",
   "name": "python",
   "nbconvert_exporter": "python",
   "pygments_lexer": "ipython3",
   "version": "3.8.8"
  }
 },
 "nbformat": 4,
 "nbformat_minor": 5
}
