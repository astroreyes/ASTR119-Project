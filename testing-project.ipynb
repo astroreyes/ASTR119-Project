{
 "cells": [
  {
   "cell_type": "markdown",
   "id": "1b979933",
   "metadata": {},
   "source": [
    "## Monte Carlo Project"
   ]
  },
  {
   "cell_type": "markdown",
   "id": "dab61042",
   "metadata": {},
   "source": [
    "1) write a scheme to compute a Monte Carlo integral for any specified function. The integration scheme should take a defined function as a parameter, along with the domain limits x=[a,b]. The domain y=[c,d] should be determined for the function considered automatically.\n",
    "\n",
    "2) Engineer a method for specifying a tolerance for the Monte Carlo integration. Note this tolerance can refer to the absolute difference between two numerical estimates of the integral.\n",
    "\n",
    "3) Have the Monte Carlo integrator produce a plot of f(x) over the domain x=[a,b] and y=[c,d], and overplot the samples (as small colored dots, with points above and below the line f(x) as distinctive colors. Have the plot contain the answer to the integral as “F(a,b) = XXX” where XXX is the floating point answer. Make a legend for f(x), and the dots above and below f(x).\n",
    "\n",
    "4) Test your model on cos(x) over the domain x = [0,1.75]\n",
    "\n",
    "5) Extra Credit:\n",
    "Produce an animation of the Monte Carlo integration where each from adds more points to the panel discussed in 3). Add another panel that shows the estimated error of the integral as a function of the number of points."
   ]
  },
  {
   "cell_type": "code",
   "execution_count": 6,
   "id": "326079ac",
   "metadata": {},
   "outputs": [],
   "source": [
    "%matplotlib inline\n",
    "import matplotlib.pyplot as plt\n",
    "import numpy as np"
   ]
  },
  {
   "cell_type": "markdown",
   "id": "796f3c31",
   "metadata": {},
   "source": [
    "## PART 1: RAKSHYA & AJ"
   ]
  },
  {
   "cell_type": "markdown",
   "id": "4854e765",
   "metadata": {},
   "source": [
    "#### setting parameters/definifing our initial conditions..."
   ]
  },
  {
   "cell_type": "code",
   "execution_count": 7,
   "id": "ad9260de",
   "metadata": {},
   "outputs": [],
   "source": [
    "#def monte_carlo(f, a, b, N):\n",
    "    # f == our unknown function to integrate\n",
    "    # a == lower limit of integration\n",
    "    # b == upper limit of integration\n",
    "    # N == number of fnction evaluations to use\n",
    "\n",
    "#AJ: circa when we would define a function to perform methods to\n",
    "#AJ: \n",
    "\n",
    "\n",
    "\n",
    "n = 10000 #setting a number of samples for the integration    \n",
    "#AJ: uhhh, figuring out where to put this \n"
   ]
  },
  {
   "cell_type": "markdown",
   "id": "cc2638ce",
   "metadata": {},
   "source": [
    "#### but we need to generate random numbers "
   ]
  },
  {
   "cell_type": "code",
   "execution_count": null,
   "id": "5fb5088a",
   "metadata": {},
   "outputs": [],
   "source": [
    "#x = np.random.normal()\n",
    "#y = np.random.normal()\n",
    "\n",
    "#AJ: so, np.random.normal() draws random samples\n",
    "# from a normal (Gaussian) distrubution"
   ]
  },
  {
   "cell_type": "markdown",
   "id": "bf66d9c2",
   "metadata": {},
   "source": [
    "## PART 2: RAKSHYA & MARLON"
   ]
  },
  {
   "cell_type": "code",
   "execution_count": null,
   "id": "6edae42e",
   "metadata": {},
   "outputs": [],
   "source": []
  },
  {
   "cell_type": "markdown",
   "id": "186ec9f7",
   "metadata": {},
   "source": [
    "## PART 3: CAIT & AJ"
   ]
  },
  {
   "cell_type": "markdown",
   "id": "282d66af",
   "metadata": {},
   "source": [
    "#### "
   ]
  },
  {
   "cell_type": "code",
   "execution_count": null,
   "id": "3a6aa9e0",
   "metadata": {},
   "outputs": [],
   "source": []
  },
  {
   "cell_type": "markdown",
   "id": "62c1eb52",
   "metadata": {},
   "source": [
    "## PART 4: CAIT & MARLON"
   ]
  },
  {
   "cell_type": "code",
   "execution_count": null,
   "id": "c5c88f0e",
   "metadata": {},
   "outputs": [],
   "source": []
  },
  {
   "cell_type": "markdown",
   "id": "6991d94d",
   "metadata": {},
   "source": [
    "## 5) [Extra Credit]"
   ]
  },
  {
   "cell_type": "code",
   "execution_count": null,
   "id": "6c3758f5",
   "metadata": {},
   "outputs": [],
   "source": []
  }
 ],
 "metadata": {
  "kernelspec": {
   "display_name": "Python 3",
   "language": "python",
   "name": "python3"
  },
  "language_info": {
   "codemirror_mode": {
    "name": "ipython",
    "version": 3
   },
   "file_extension": ".py",
   "mimetype": "text/x-python",
   "name": "python",
   "nbconvert_exporter": "python",
   "pygments_lexer": "ipython3",
   "version": "3.8.8"
  }
 },
 "nbformat": 4,
 "nbformat_minor": 5
}
